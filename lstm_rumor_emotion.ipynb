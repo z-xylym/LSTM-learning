{
  "nbformat": 4,
  "nbformat_minor": 0,
  "metadata": {
    "colab": {
      "provenance": [],
      "authorship_tag": "ABX9TyPuhwNnjdeZt6w16LemWO17",
      "include_colab_link": true
    },
    "kernelspec": {
      "name": "python3",
      "display_name": "Python 3"
    },
    "language_info": {
      "name": "python"
    }
  },
  "cells": [
    {
      "cell_type": "markdown",
      "metadata": {
        "id": "view-in-github",
        "colab_type": "text"
      },
      "source": [
        "<a href=\"https://colab.research.google.com/github/z-xylym/LSTM-learning/blob/main/lstm_rumor_emotion.ipynb\" target=\"_parent\"><img src=\"https://colab.research.google.com/assets/colab-badge.svg\" alt=\"Open In Colab\"/></a>"
      ]
    },
    {
      "cell_type": "code",
      "execution_count": 3,
      "metadata": {
        "colab": {
          "base_uri": "https://localhost:8080/",
          "height": 75
        },
        "id": "D67SYkctwYcQ",
        "outputId": "38ee23c9-9c62-4cdb-9f06-33a1810a69e3"
      },
      "outputs": [
        {
          "output_type": "display_data",
          "data": {
            "text/plain": [
              "<IPython.core.display.HTML object>"
            ],
            "text/html": [
              "\n",
              "     <input type=\"file\" id=\"files-e6cbaca1-be57-4cf8-93bf-15ab9a1dbe90\" name=\"files[]\" multiple disabled\n",
              "        style=\"border:none\" />\n",
              "     <output id=\"result-e6cbaca1-be57-4cf8-93bf-15ab9a1dbe90\">\n",
              "      Upload widget is only available when the cell has been executed in the\n",
              "      current browser session. Please rerun this cell to enable.\n",
              "      </output>\n",
              "      <script>// Copyright 2017 Google LLC\n",
              "//\n",
              "// Licensed under the Apache License, Version 2.0 (the \"License\");\n",
              "// you may not use this file except in compliance with the License.\n",
              "// You may obtain a copy of the License at\n",
              "//\n",
              "//      http://www.apache.org/licenses/LICENSE-2.0\n",
              "//\n",
              "// Unless required by applicable law or agreed to in writing, software\n",
              "// distributed under the License is distributed on an \"AS IS\" BASIS,\n",
              "// WITHOUT WARRANTIES OR CONDITIONS OF ANY KIND, either express or implied.\n",
              "// See the License for the specific language governing permissions and\n",
              "// limitations under the License.\n",
              "\n",
              "/**\n",
              " * @fileoverview Helpers for google.colab Python module.\n",
              " */\n",
              "(function(scope) {\n",
              "function span(text, styleAttributes = {}) {\n",
              "  const element = document.createElement('span');\n",
              "  element.textContent = text;\n",
              "  for (const key of Object.keys(styleAttributes)) {\n",
              "    element.style[key] = styleAttributes[key];\n",
              "  }\n",
              "  return element;\n",
              "}\n",
              "\n",
              "// Max number of bytes which will be uploaded at a time.\n",
              "const MAX_PAYLOAD_SIZE = 100 * 1024;\n",
              "\n",
              "function _uploadFiles(inputId, outputId) {\n",
              "  const steps = uploadFilesStep(inputId, outputId);\n",
              "  const outputElement = document.getElementById(outputId);\n",
              "  // Cache steps on the outputElement to make it available for the next call\n",
              "  // to uploadFilesContinue from Python.\n",
              "  outputElement.steps = steps;\n",
              "\n",
              "  return _uploadFilesContinue(outputId);\n",
              "}\n",
              "\n",
              "// This is roughly an async generator (not supported in the browser yet),\n",
              "// where there are multiple asynchronous steps and the Python side is going\n",
              "// to poll for completion of each step.\n",
              "// This uses a Promise to block the python side on completion of each step,\n",
              "// then passes the result of the previous step as the input to the next step.\n",
              "function _uploadFilesContinue(outputId) {\n",
              "  const outputElement = document.getElementById(outputId);\n",
              "  const steps = outputElement.steps;\n",
              "\n",
              "  const next = steps.next(outputElement.lastPromiseValue);\n",
              "  return Promise.resolve(next.value.promise).then((value) => {\n",
              "    // Cache the last promise value to make it available to the next\n",
              "    // step of the generator.\n",
              "    outputElement.lastPromiseValue = value;\n",
              "    return next.value.response;\n",
              "  });\n",
              "}\n",
              "\n",
              "/**\n",
              " * Generator function which is called between each async step of the upload\n",
              " * process.\n",
              " * @param {string} inputId Element ID of the input file picker element.\n",
              " * @param {string} outputId Element ID of the output display.\n",
              " * @return {!Iterable<!Object>} Iterable of next steps.\n",
              " */\n",
              "function* uploadFilesStep(inputId, outputId) {\n",
              "  const inputElement = document.getElementById(inputId);\n",
              "  inputElement.disabled = false;\n",
              "\n",
              "  const outputElement = document.getElementById(outputId);\n",
              "  outputElement.innerHTML = '';\n",
              "\n",
              "  const pickedPromise = new Promise((resolve) => {\n",
              "    inputElement.addEventListener('change', (e) => {\n",
              "      resolve(e.target.files);\n",
              "    });\n",
              "  });\n",
              "\n",
              "  const cancel = document.createElement('button');\n",
              "  inputElement.parentElement.appendChild(cancel);\n",
              "  cancel.textContent = 'Cancel upload';\n",
              "  const cancelPromise = new Promise((resolve) => {\n",
              "    cancel.onclick = () => {\n",
              "      resolve(null);\n",
              "    };\n",
              "  });\n",
              "\n",
              "  // Wait for the user to pick the files.\n",
              "  const files = yield {\n",
              "    promise: Promise.race([pickedPromise, cancelPromise]),\n",
              "    response: {\n",
              "      action: 'starting',\n",
              "    }\n",
              "  };\n",
              "\n",
              "  cancel.remove();\n",
              "\n",
              "  // Disable the input element since further picks are not allowed.\n",
              "  inputElement.disabled = true;\n",
              "\n",
              "  if (!files) {\n",
              "    return {\n",
              "      response: {\n",
              "        action: 'complete',\n",
              "      }\n",
              "    };\n",
              "  }\n",
              "\n",
              "  for (const file of files) {\n",
              "    const li = document.createElement('li');\n",
              "    li.append(span(file.name, {fontWeight: 'bold'}));\n",
              "    li.append(span(\n",
              "        `(${file.type || 'n/a'}) - ${file.size} bytes, ` +\n",
              "        `last modified: ${\n",
              "            file.lastModifiedDate ? file.lastModifiedDate.toLocaleDateString() :\n",
              "                                    'n/a'} - `));\n",
              "    const percent = span('0% done');\n",
              "    li.appendChild(percent);\n",
              "\n",
              "    outputElement.appendChild(li);\n",
              "\n",
              "    const fileDataPromise = new Promise((resolve) => {\n",
              "      const reader = new FileReader();\n",
              "      reader.onload = (e) => {\n",
              "        resolve(e.target.result);\n",
              "      };\n",
              "      reader.readAsArrayBuffer(file);\n",
              "    });\n",
              "    // Wait for the data to be ready.\n",
              "    let fileData = yield {\n",
              "      promise: fileDataPromise,\n",
              "      response: {\n",
              "        action: 'continue',\n",
              "      }\n",
              "    };\n",
              "\n",
              "    // Use a chunked sending to avoid message size limits. See b/62115660.\n",
              "    let position = 0;\n",
              "    do {\n",
              "      const length = Math.min(fileData.byteLength - position, MAX_PAYLOAD_SIZE);\n",
              "      const chunk = new Uint8Array(fileData, position, length);\n",
              "      position += length;\n",
              "\n",
              "      const base64 = btoa(String.fromCharCode.apply(null, chunk));\n",
              "      yield {\n",
              "        response: {\n",
              "          action: 'append',\n",
              "          file: file.name,\n",
              "          data: base64,\n",
              "        },\n",
              "      };\n",
              "\n",
              "      let percentDone = fileData.byteLength === 0 ?\n",
              "          100 :\n",
              "          Math.round((position / fileData.byteLength) * 100);\n",
              "      percent.textContent = `${percentDone}% done`;\n",
              "\n",
              "    } while (position < fileData.byteLength);\n",
              "  }\n",
              "\n",
              "  // All done.\n",
              "  yield {\n",
              "    response: {\n",
              "      action: 'complete',\n",
              "    }\n",
              "  };\n",
              "}\n",
              "\n",
              "scope.google = scope.google || {};\n",
              "scope.google.colab = scope.google.colab || {};\n",
              "scope.google.colab._files = {\n",
              "  _uploadFiles,\n",
              "  _uploadFilesContinue,\n",
              "};\n",
              "})(self);\n",
              "</script> "
            ]
          },
          "metadata": {}
        },
        {
          "output_type": "stream",
          "name": "stdout",
          "text": [
            "Saving rumors_v170613.json to rumors_v170613.json\n"
          ]
        }
      ],
      "source": [
        "from google.colab import files\n",
        "uploaded = files.upload()\n"
      ]
    },
    {
      "cell_type": "code",
      "source": [
        "filename = list(uploaded.keys())[0]\n"
      ],
      "metadata": {
        "id": "sK-u0yG1xKbY"
      },
      "execution_count": 9,
      "outputs": []
    },
    {
      "cell_type": "code",
      "source": [
        "import json\n",
        "from google.colab import files\n",
        "\n"
      ],
      "metadata": {
        "id": "KPotTXzsyXqq"
      },
      "execution_count": 7,
      "outputs": []
    },
    {
      "cell_type": "code",
      "source": [
        "data = []\n",
        "with open(filename, \"r\", encoding=\"utf-8\") as f:\n",
        "    for line in f:\n",
        "        try:\n",
        "            data.append(json.loads(line.strip()))  # 解析 JSON\n",
        "        except json.JSONDecodeError as e:\n",
        "            print(f\"JSON 解析错误: {e}\")\n",
        "\n",
        "# 4. 输出数据的前5条，检查是否正确\n",
        "print(f\"总共有 {len(data)} 条谣言数据\")\n",
        "print(json.dumps(data[:5], indent=2, ensure_ascii=False))  # 美化输出前5条数据"
      ],
      "metadata": {
        "colab": {
          "base_uri": "https://localhost:8080/"
        },
        "id": "4-lcwxDoz1-W",
        "outputId": "80981692-6ac9-40a2-a22c-7253efcf74cb"
      },
      "execution_count": 10,
      "outputs": [
        {
          "output_type": "stream",
          "name": "stdout",
          "text": [
            "总共有 31669 条谣言数据\n",
            "[\n",
            "  {\n",
            "    \"rumorCode\": \"K1CaN8wJj76ol\",\n",
            "    \"title\": \"@隆闯天涯 举报@浅雪深洋 不实信息\",\n",
            "    \"informerName\": \"隆闯天涯\",\n",
            "    \"informerUrl\": \"http://weibo.com/u/1842734325\",\n",
            "    \"rumormongerName\": \"浅雪深洋\",\n",
            "    \"rumormongerUrl\": \"http://weibo.com/u/2592892063\",\n",
            "    \"rumorText\": \"急找孩子，求转 实验小学寻人启事13930886687帮忙扩散，今天上午一个三岁多小女孩在锦绣花园小区附近被人拐走了，小女孩能说出她爸爸的手机号码 从监控上看是被一个四十多岁男人抱走了现大人都急疯了 有知情者请告之 万分感谢 看到信息的兄弟姐妹留意一下 联系人 张静杰13930886687如果看一眼懒得 \",\n",
            "    \"visitTimes\": 3,\n",
            "    \"result\": \"经查，该微博称“有孩子被抢”不实，类似消息近两年在网上广为流传且都已经被当地警方辟谣，详情：http://weibo.com/2656274875/CodNboTCH，被举报人构成“发布不实信息”，虽无即时危险，但应予澄清，现根据《微博社区管理规定》 （http://service.account.weibo.com/roles/guiding）第19条，予以标识处理。\",\n",
            "    \"publishTime\": \"2016-06-15 09:02\"\n",
            "  },\n",
            "  {\n",
            "    \"rumorCode\": \"K1CaN8wJj76ok\",\n",
            "    \"title\": \"@隆闯天涯 举报@cat精品微店 不实信息\",\n",
            "    \"informerName\": \"隆闯天涯\",\n",
            "    \"informerUrl\": \"http://weibo.com/u/1842734325\",\n",
            "    \"rumormongerName\": \"cat精品微店\",\n",
            "    \"rumormongerUrl\": \"http://weibo.com/u/5722939786\",\n",
            "    \"rumorText\": \"急帮忙转寻人启示13759695559帮忙扩散，今天上午一个三岁多小女孩在世纪家园小区附近被人拐走了，小女孩能说出她爸爸的手机号码，从监控上看是被一个四十多岁男人抱走了现大人都急疯了，有知情者请告之，万分感谢！看到信息的兄弟姐妹留意一下！·联系人，张静杰13759695559如果看一眼懒得转的冷漠的 \",\n",
            "    \"visitTimes\": 3,\n",
            "    \"result\": \"经查，该微博称“有孩子被抢”不实，类似消息近两年在网上广为流传且都已经被当地警方辟谣，详情：http://weibo.com/2656274875/CodNboTCH，被举报人构成“发布不实信息”，虽无即时危险，但应予澄清，现根据《微博社区管理规定》 （http://service.account.weibo.com/roles/guiding）第19条，予以标识处理。\",\n",
            "    \"publishTime\": \"2016-06-15 09:06\"\n",
            "  },\n",
            "  {\n",
            "    \"rumorCode\": \"K1CaN8wJi7ase\",\n",
            "    \"title\": \"@浪爷爷之2046 举报@江小鱼 不实信息\",\n",
            "    \"informerName\": \"壹刻亦光年-ZMQ\",\n",
            "    \"informerUrl\": \"http://weibo.com/u/2858506305\",\n",
            "    \"rumormongerName\": \"江小鱼\",\n",
            "    \"rumormongerUrl\": \"http://weibo.com/u/1212040547\",\n",
            "    \"rumorText\": \"：#微博辟谣# 虚假消息 .            \",\n",
            "    \"visitTimes\": 1486,\n",
            "    \"result\": \"被举报人发微博称：“昨悉朝阳区群众又一重大战果，史诗巨制《监狱风云》添一重磅小鲜肉，吸毒队完胜嫖娼队”。该消息一经公布，引起网友和舆论的密切关注，甚至引发对一些知名演员的无端猜测。但后经站方与@江小鱼 方面核实，@江小鱼 始终不能提供任何能够证实其消息真实性的证据，并将此前发布的微博删除。且@平安北京 也就此提示网友对于“来源不明的消息，不要轻信和传播，更不要编造谣言。”现站方根据《微博社区管理规定》第20条之规定，对构成“发布不实信息”的账号@江小鱼予以禁言、禁被关注15天，扣除信用积分10分的处罚。\",\n",
            "    \"publishTime\": \"2016-06-14 14:20\"\n",
            "  },\n",
            "  {\n",
            "    \"rumorCode\": \"K1CaN8wJg7a0f\",\n",
            "    \"title\": \"@无处安放大脸喵 举报@石梓钰 不实信息\",\n",
            "    \"informerName\": \"无处安放大脸喵\",\n",
            "    \"informerUrl\": \"http://weibo.com/u/5198423515\",\n",
            "    \"rumormongerName\": \"石梓钰\",\n",
            "    \"rumormongerUrl\": \"http://weibo.com/u/2032945394\",\n",
            "    \"rumorText\": \"        ：#上海城管把商家打死#上海城管把学弟的亲舅妈打死！发生在学弟身上的真事！希望社会还个公道！                             \",\n",
            "    \"visitTimes\": 9,\n",
            "    \"result\": \"此微博称“上海市颛桥城管打死人了”不实，据@警民直通车-闵行 通报：市容管理人员葛路某准备骑电瓶车离开现场，被路边设摊人员黄某阻拦。黄某儿子葛树某驾驶一辆蓝色卡车撞向电瓶车，黄某被电瓶车带倒在地，当场头部出 血，后被送往医院经抢救无效死亡，并非城管打死人。详情：http://weibo.com/3236934434/DzDq3vS8K，被举报人言论构 成“发布不实信息”。现根据《微博社区管理规定》第19条，对被举报人处理如下：扣除信用积分2分。上述处理在公布后60分钟内生效。\",\n",
            "    \"publishTime\": \"2016-06-13 16:18\"\n",
            "  },\n",
            "  {\n",
            "    \"rumorCode\": \"K1CaN8wJg7a0e\",\n",
            "    \"title\": \"@无处安放大脸喵 举报@小小小小小吖莲 不实信息\",\n",
            "    \"informerName\": \"无处安放大脸喵\",\n",
            "    \"informerUrl\": \"http://weibo.com/u/5198423515\",\n",
            "    \"rumormongerName\": \"小小小小小吖莲\",\n",
            "    \"rumormongerUrl\": \"http://weibo.com/u/5246061392\",\n",
            "    \"rumorText\": \"        ：上海城管暴力执法，同学的舅妈被打死了，报警了可是公安只说等回复，求给一个公道，城管为什么可以这么嚣张？求解释？ http://t.cn/RUUefZa                             \",\n",
            "    \"visitTimes\": 4,\n",
            "    \"result\": \"此微博称“上海市颛桥城管打死人了”不实，据@警民直通车-闵行 通报：市容管理人员葛路某准备骑电瓶车离开现场，被路边设摊人员黄某阻拦。黄某儿子葛树某驾驶一辆蓝色卡车撞向电瓶车，黄某被电瓶车带倒在地，当场头部出 血，后被送往医院经抢救无效死亡，并非城管打死人。详情：http://weibo.com/3236934434/DzDq3vS8K，被举报人言论构 成“发布不实信息”。现根据《微博社区管理规定》第19条，对被举报人处理如下：扣除信用积分2分。上述处理在公布后60分钟内生效。\",\n",
            "    \"publishTime\": \"2016-06-13 16:18\"\n",
            "  }\n",
            "]\n"
          ]
        }
      ]
    },
    {
      "cell_type": "code",
      "source": [
        "pip install pkuseg\n"
      ],
      "metadata": {
        "colab": {
          "base_uri": "https://localhost:8080/"
        },
        "id": "9_kyW-TXJK8h",
        "outputId": "7a4aec8f-a19b-4fc6-9560-8abdecde13fa"
      },
      "execution_count": 12,
      "outputs": [
        {
          "output_type": "stream",
          "name": "stdout",
          "text": [
            "Collecting pkuseg\n",
            "  Downloading pkuseg-0.0.25.tar.gz (48.8 MB)\n",
            "\u001b[2K     \u001b[90m━━━━━━━━━━━━━━━━━━━━━━━━━━━━━━━━━━━━━━━━\u001b[0m \u001b[32m48.8/48.8 MB\u001b[0m \u001b[31m23.9 MB/s\u001b[0m eta \u001b[36m0:00:00\u001b[0m\n",
            "\u001b[?25h  Preparing metadata (setup.py) ... \u001b[?25l\u001b[?25hdone\n",
            "Requirement already satisfied: cython in /usr/local/lib/python3.11/dist-packages (from pkuseg) (3.0.11)\n",
            "Requirement already satisfied: numpy>=1.16.0 in /usr/local/lib/python3.11/dist-packages (from pkuseg) (1.26.4)\n",
            "Building wheels for collected packages: pkuseg\n",
            "  Building wheel for pkuseg (setup.py) ... \u001b[?25l\u001b[?25hdone\n",
            "  Created wheel for pkuseg: filename=pkuseg-0.0.25-cp311-cp311-linux_x86_64.whl size=50751331 sha256=86f7121f9728843e87222bc7d04010ddc2bdf540c44e23bbcea82c8d0843d9fa\n",
            "  Stored in directory: /root/.cache/pip/wheels/6e/b9/d9/3cfceef165811a9dfc46c94ab798e429cf413de917aba799ca\n",
            "Successfully built pkuseg\n",
            "Installing collected packages: pkuseg\n",
            "Successfully installed pkuseg-0.0.25\n"
          ]
        }
      ]
    },
    {
      "cell_type": "code",
      "source": [
        "pip install config"
      ],
      "metadata": {
        "colab": {
          "base_uri": "https://localhost:8080/"
        },
        "id": "T0zx5emjJk-i",
        "outputId": "2d7258d5-bdcb-49f9-f212-7809d16a7b8a"
      },
      "execution_count": 14,
      "outputs": [
        {
          "output_type": "stream",
          "name": "stdout",
          "text": [
            "Collecting config\n",
            "  Downloading config-0.5.1-py2.py3-none-any.whl.metadata (1.4 kB)\n",
            "Downloading config-0.5.1-py2.py3-none-any.whl (20 kB)\n",
            "Installing collected packages: config\n",
            "Successfully installed config-0.5.1\n"
          ]
        }
      ]
    },
    {
      "cell_type": "code",
      "source": [
        "import pandas as pd\n",
        "import matplotlib.pyplot as plt\n",
        "import  torch\n",
        "import jieba\n",
        "import bz2\n",
        "import  os,re\n",
        "import gensim\n",
        "import pkuseg\n",
        "import numpy as np\n",
        "from gensim.models import KeyedVectors   #gensim用来加载预训练词向量\n",
        "import config as config\n",
        "\n"
      ],
      "metadata": {
        "id": "ZcvrBJ_X3Ufa"
      },
      "execution_count": 15,
      "outputs": []
    },
    {
      "cell_type": "code",
      "source": [
        "from google.colab import files\n",
        "uploaded = files.upload()"
      ],
      "metadata": {
        "colab": {
          "base_uri": "https://localhost:8080/",
          "height": 75
        },
        "id": "0z51OgpPJ3ir",
        "outputId": "12c6521a-408d-4370-c7a6-558e8f1ea35f"
      },
      "execution_count": 16,
      "outputs": [
        {
          "output_type": "display_data",
          "data": {
            "text/plain": [
              "<IPython.core.display.HTML object>"
            ],
            "text/html": [
              "\n",
              "     <input type=\"file\" id=\"files-7e973870-dfab-4ba4-96c5-db4c25bc3967\" name=\"files[]\" multiple disabled\n",
              "        style=\"border:none\" />\n",
              "     <output id=\"result-7e973870-dfab-4ba4-96c5-db4c25bc3967\">\n",
              "      Upload widget is only available when the cell has been executed in the\n",
              "      current browser session. Please rerun this cell to enable.\n",
              "      </output>\n",
              "      <script>// Copyright 2017 Google LLC\n",
              "//\n",
              "// Licensed under the Apache License, Version 2.0 (the \"License\");\n",
              "// you may not use this file except in compliance with the License.\n",
              "// You may obtain a copy of the License at\n",
              "//\n",
              "//      http://www.apache.org/licenses/LICENSE-2.0\n",
              "//\n",
              "// Unless required by applicable law or agreed to in writing, software\n",
              "// distributed under the License is distributed on an \"AS IS\" BASIS,\n",
              "// WITHOUT WARRANTIES OR CONDITIONS OF ANY KIND, either express or implied.\n",
              "// See the License for the specific language governing permissions and\n",
              "// limitations under the License.\n",
              "\n",
              "/**\n",
              " * @fileoverview Helpers for google.colab Python module.\n",
              " */\n",
              "(function(scope) {\n",
              "function span(text, styleAttributes = {}) {\n",
              "  const element = document.createElement('span');\n",
              "  element.textContent = text;\n",
              "  for (const key of Object.keys(styleAttributes)) {\n",
              "    element.style[key] = styleAttributes[key];\n",
              "  }\n",
              "  return element;\n",
              "}\n",
              "\n",
              "// Max number of bytes which will be uploaded at a time.\n",
              "const MAX_PAYLOAD_SIZE = 100 * 1024;\n",
              "\n",
              "function _uploadFiles(inputId, outputId) {\n",
              "  const steps = uploadFilesStep(inputId, outputId);\n",
              "  const outputElement = document.getElementById(outputId);\n",
              "  // Cache steps on the outputElement to make it available for the next call\n",
              "  // to uploadFilesContinue from Python.\n",
              "  outputElement.steps = steps;\n",
              "\n",
              "  return _uploadFilesContinue(outputId);\n",
              "}\n",
              "\n",
              "// This is roughly an async generator (not supported in the browser yet),\n",
              "// where there are multiple asynchronous steps and the Python side is going\n",
              "// to poll for completion of each step.\n",
              "// This uses a Promise to block the python side on completion of each step,\n",
              "// then passes the result of the previous step as the input to the next step.\n",
              "function _uploadFilesContinue(outputId) {\n",
              "  const outputElement = document.getElementById(outputId);\n",
              "  const steps = outputElement.steps;\n",
              "\n",
              "  const next = steps.next(outputElement.lastPromiseValue);\n",
              "  return Promise.resolve(next.value.promise).then((value) => {\n",
              "    // Cache the last promise value to make it available to the next\n",
              "    // step of the generator.\n",
              "    outputElement.lastPromiseValue = value;\n",
              "    return next.value.response;\n",
              "  });\n",
              "}\n",
              "\n",
              "/**\n",
              " * Generator function which is called between each async step of the upload\n",
              " * process.\n",
              " * @param {string} inputId Element ID of the input file picker element.\n",
              " * @param {string} outputId Element ID of the output display.\n",
              " * @return {!Iterable<!Object>} Iterable of next steps.\n",
              " */\n",
              "function* uploadFilesStep(inputId, outputId) {\n",
              "  const inputElement = document.getElementById(inputId);\n",
              "  inputElement.disabled = false;\n",
              "\n",
              "  const outputElement = document.getElementById(outputId);\n",
              "  outputElement.innerHTML = '';\n",
              "\n",
              "  const pickedPromise = new Promise((resolve) => {\n",
              "    inputElement.addEventListener('change', (e) => {\n",
              "      resolve(e.target.files);\n",
              "    });\n",
              "  });\n",
              "\n",
              "  const cancel = document.createElement('button');\n",
              "  inputElement.parentElement.appendChild(cancel);\n",
              "  cancel.textContent = 'Cancel upload';\n",
              "  const cancelPromise = new Promise((resolve) => {\n",
              "    cancel.onclick = () => {\n",
              "      resolve(null);\n",
              "    };\n",
              "  });\n",
              "\n",
              "  // Wait for the user to pick the files.\n",
              "  const files = yield {\n",
              "    promise: Promise.race([pickedPromise, cancelPromise]),\n",
              "    response: {\n",
              "      action: 'starting',\n",
              "    }\n",
              "  };\n",
              "\n",
              "  cancel.remove();\n",
              "\n",
              "  // Disable the input element since further picks are not allowed.\n",
              "  inputElement.disabled = true;\n",
              "\n",
              "  if (!files) {\n",
              "    return {\n",
              "      response: {\n",
              "        action: 'complete',\n",
              "      }\n",
              "    };\n",
              "  }\n",
              "\n",
              "  for (const file of files) {\n",
              "    const li = document.createElement('li');\n",
              "    li.append(span(file.name, {fontWeight: 'bold'}));\n",
              "    li.append(span(\n",
              "        `(${file.type || 'n/a'}) - ${file.size} bytes, ` +\n",
              "        `last modified: ${\n",
              "            file.lastModifiedDate ? file.lastModifiedDate.toLocaleDateString() :\n",
              "                                    'n/a'} - `));\n",
              "    const percent = span('0% done');\n",
              "    li.appendChild(percent);\n",
              "\n",
              "    outputElement.appendChild(li);\n",
              "\n",
              "    const fileDataPromise = new Promise((resolve) => {\n",
              "      const reader = new FileReader();\n",
              "      reader.onload = (e) => {\n",
              "        resolve(e.target.result);\n",
              "      };\n",
              "      reader.readAsArrayBuffer(file);\n",
              "    });\n",
              "    // Wait for the data to be ready.\n",
              "    let fileData = yield {\n",
              "      promise: fileDataPromise,\n",
              "      response: {\n",
              "        action: 'continue',\n",
              "      }\n",
              "    };\n",
              "\n",
              "    // Use a chunked sending to avoid message size limits. See b/62115660.\n",
              "    let position = 0;\n",
              "    do {\n",
              "      const length = Math.min(fileData.byteLength - position, MAX_PAYLOAD_SIZE);\n",
              "      const chunk = new Uint8Array(fileData, position, length);\n",
              "      position += length;\n",
              "\n",
              "      const base64 = btoa(String.fromCharCode.apply(null, chunk));\n",
              "      yield {\n",
              "        response: {\n",
              "          action: 'append',\n",
              "          file: file.name,\n",
              "          data: base64,\n",
              "        },\n",
              "      };\n",
              "\n",
              "      let percentDone = fileData.byteLength === 0 ?\n",
              "          100 :\n",
              "          Math.round((position / fileData.byteLength) * 100);\n",
              "      percent.textContent = `${percentDone}% done`;\n",
              "\n",
              "    } while (position < fileData.byteLength);\n",
              "  }\n",
              "\n",
              "  // All done.\n",
              "  yield {\n",
              "    response: {\n",
              "      action: 'complete',\n",
              "    }\n",
              "  };\n",
              "}\n",
              "\n",
              "scope.google = scope.google || {};\n",
              "scope.google.colab = scope.google.colab || {};\n",
              "scope.google.colab._files = {\n",
              "  _uploadFiles,\n",
              "  _uploadFilesContinue,\n",
              "};\n",
              "})(self);\n",
              "</script> "
            ]
          },
          "metadata": {}
        },
        {
          "output_type": "stream",
          "name": "stdout",
          "text": [
            "Saving ced_dataset.txt to ced_dataset.txt\n"
          ]
        }
      ]
    },
    {
      "cell_type": "code",
      "source": [
        "#解压预训练好的词向量bz2文件\n",
        "def bz2Decompress():\n",
        "    if os.path.exists (\"/content/sgns.weibo.bigram.bz2\") == False:\n",
        "        with open (\"/content/sgns.weibo.bigram.bz2\", 'wb') as new_file, open (\"/content/sgns.weibo.bigram.bz2\", 'rb') as file:\n",
        "            decompressor = bz2.BZ2Decompressor ()\n",
        "            for data in iter (lambda: file.read (100 * 1024), b''):\n",
        "                new_file.write (decompressor.decompress (data))"
      ],
      "metadata": {
        "id": "nh5iiLcDJtbf"
      },
      "execution_count": 28,
      "outputs": []
    },
    {
      "cell_type": "code",
      "source": [
        "import bz2\n",
        "import os\n",
        "\n",
        "def bz2Decompress():\n",
        "    compressed_file_path = \"/content/sgns.weibo.bigram.bz2\"\n",
        "    output_file_path = \"/content/sgns.weibo.bigram\"  # 指定解压后的文件路径\n",
        "\n",
        "    # 检查压缩文件是否存在\n",
        "    if not os.path.exists(compressed_file_path):\n",
        "        print(f\"Error: The file {compressed_file_path} does not exist.\")\n",
        "        return\n",
        "\n",
        "    # 解压过程\n",
        "    with open(output_file_path, 'wb') as new_file:\n",
        "        with open(compressed_file_path, 'rb') as file:\n",
        "            decompressor = bz2.BZ2Decompressor()\n",
        "            for data in iter(lambda: file.read(100 * 1024), b''):\n",
        "                new_file.write(decompressor.decompress(data))\n",
        "\n",
        "    # 检查解压后的文件是否存在\n",
        "    if os.path.exists(output_file_path):\n",
        "        print(f\"File successfully decompressed to: {output_file_path}\")\n",
        "    else:\n",
        "        print(\"Error: Decompression failed or file not found.\")\n",
        "\n",
        "# 调用解压函数\n",
        "bz2Decompress()\n",
        "\n"
      ],
      "metadata": {
        "colab": {
          "base_uri": "https://localhost:8080/"
        },
        "id": "IMES13ZBQ4h5",
        "outputId": "e879fd22-6c99-47c8-b44b-9c3bddc047ea"
      },
      "execution_count": 44,
      "outputs": [
        {
          "output_type": "stream",
          "name": "stdout",
          "text": [
            "File successfully decompressed to: /content/sgns.weibo.bigram\n"
          ]
        }
      ]
    },
    {
      "cell_type": "code",
      "source": [
        "if os.path.exists(\"/content/sgns.weibo.bigram\"):\n",
        "    print(\"Decompression successful!\")\n",
        "else:\n",
        "    print(\"Decompression failed!\")\n"
      ],
      "metadata": {
        "colab": {
          "base_uri": "https://localhost:8080/"
        },
        "id": "41zN9q6-RD2s",
        "outputId": "5b24334b-71fa-4bd9-9848-a5038e2d9582"
      },
      "execution_count": 45,
      "outputs": [
        {
          "output_type": "stream",
          "name": "stdout",
          "text": [
            "Decompression successful!\n"
          ]
        }
      ]
    },
    {
      "cell_type": "code",
      "source": [
        "from google.colab import files\n",
        "uploaded = files.upload()"
      ],
      "metadata": {
        "colab": {
          "base_uri": "https://localhost:8080/",
          "height": 75
        },
        "id": "4tMnJWkMJ2qz",
        "outputId": "9e7152e4-6c21-4fc0-cf13-a237356ec762"
      },
      "execution_count": 61,
      "outputs": [
        {
          "output_type": "display_data",
          "data": {
            "text/plain": [
              "<IPython.core.display.HTML object>"
            ],
            "text/html": [
              "\n",
              "     <input type=\"file\" id=\"files-07cfb5ad-0f2e-473a-a876-b0249bc460e9\" name=\"files[]\" multiple disabled\n",
              "        style=\"border:none\" />\n",
              "     <output id=\"result-07cfb5ad-0f2e-473a-a876-b0249bc460e9\">\n",
              "      Upload widget is only available when the cell has been executed in the\n",
              "      current browser session. Please rerun this cell to enable.\n",
              "      </output>\n",
              "      <script>// Copyright 2017 Google LLC\n",
              "//\n",
              "// Licensed under the Apache License, Version 2.0 (the \"License\");\n",
              "// you may not use this file except in compliance with the License.\n",
              "// You may obtain a copy of the License at\n",
              "//\n",
              "//      http://www.apache.org/licenses/LICENSE-2.0\n",
              "//\n",
              "// Unless required by applicable law or agreed to in writing, software\n",
              "// distributed under the License is distributed on an \"AS IS\" BASIS,\n",
              "// WITHOUT WARRANTIES OR CONDITIONS OF ANY KIND, either express or implied.\n",
              "// See the License for the specific language governing permissions and\n",
              "// limitations under the License.\n",
              "\n",
              "/**\n",
              " * @fileoverview Helpers for google.colab Python module.\n",
              " */\n",
              "(function(scope) {\n",
              "function span(text, styleAttributes = {}) {\n",
              "  const element = document.createElement('span');\n",
              "  element.textContent = text;\n",
              "  for (const key of Object.keys(styleAttributes)) {\n",
              "    element.style[key] = styleAttributes[key];\n",
              "  }\n",
              "  return element;\n",
              "}\n",
              "\n",
              "// Max number of bytes which will be uploaded at a time.\n",
              "const MAX_PAYLOAD_SIZE = 100 * 1024;\n",
              "\n",
              "function _uploadFiles(inputId, outputId) {\n",
              "  const steps = uploadFilesStep(inputId, outputId);\n",
              "  const outputElement = document.getElementById(outputId);\n",
              "  // Cache steps on the outputElement to make it available for the next call\n",
              "  // to uploadFilesContinue from Python.\n",
              "  outputElement.steps = steps;\n",
              "\n",
              "  return _uploadFilesContinue(outputId);\n",
              "}\n",
              "\n",
              "// This is roughly an async generator (not supported in the browser yet),\n",
              "// where there are multiple asynchronous steps and the Python side is going\n",
              "// to poll for completion of each step.\n",
              "// This uses a Promise to block the python side on completion of each step,\n",
              "// then passes the result of the previous step as the input to the next step.\n",
              "function _uploadFilesContinue(outputId) {\n",
              "  const outputElement = document.getElementById(outputId);\n",
              "  const steps = outputElement.steps;\n",
              "\n",
              "  const next = steps.next(outputElement.lastPromiseValue);\n",
              "  return Promise.resolve(next.value.promise).then((value) => {\n",
              "    // Cache the last promise value to make it available to the next\n",
              "    // step of the generator.\n",
              "    outputElement.lastPromiseValue = value;\n",
              "    return next.value.response;\n",
              "  });\n",
              "}\n",
              "\n",
              "/**\n",
              " * Generator function which is called between each async step of the upload\n",
              " * process.\n",
              " * @param {string} inputId Element ID of the input file picker element.\n",
              " * @param {string} outputId Element ID of the output display.\n",
              " * @return {!Iterable<!Object>} Iterable of next steps.\n",
              " */\n",
              "function* uploadFilesStep(inputId, outputId) {\n",
              "  const inputElement = document.getElementById(inputId);\n",
              "  inputElement.disabled = false;\n",
              "\n",
              "  const outputElement = document.getElementById(outputId);\n",
              "  outputElement.innerHTML = '';\n",
              "\n",
              "  const pickedPromise = new Promise((resolve) => {\n",
              "    inputElement.addEventListener('change', (e) => {\n",
              "      resolve(e.target.files);\n",
              "    });\n",
              "  });\n",
              "\n",
              "  const cancel = document.createElement('button');\n",
              "  inputElement.parentElement.appendChild(cancel);\n",
              "  cancel.textContent = 'Cancel upload';\n",
              "  const cancelPromise = new Promise((resolve) => {\n",
              "    cancel.onclick = () => {\n",
              "      resolve(null);\n",
              "    };\n",
              "  });\n",
              "\n",
              "  // Wait for the user to pick the files.\n",
              "  const files = yield {\n",
              "    promise: Promise.race([pickedPromise, cancelPromise]),\n",
              "    response: {\n",
              "      action: 'starting',\n",
              "    }\n",
              "  };\n",
              "\n",
              "  cancel.remove();\n",
              "\n",
              "  // Disable the input element since further picks are not allowed.\n",
              "  inputElement.disabled = true;\n",
              "\n",
              "  if (!files) {\n",
              "    return {\n",
              "      response: {\n",
              "        action: 'complete',\n",
              "      }\n",
              "    };\n",
              "  }\n",
              "\n",
              "  for (const file of files) {\n",
              "    const li = document.createElement('li');\n",
              "    li.append(span(file.name, {fontWeight: 'bold'}));\n",
              "    li.append(span(\n",
              "        `(${file.type || 'n/a'}) - ${file.size} bytes, ` +\n",
              "        `last modified: ${\n",
              "            file.lastModifiedDate ? file.lastModifiedDate.toLocaleDateString() :\n",
              "                                    'n/a'} - `));\n",
              "    const percent = span('0% done');\n",
              "    li.appendChild(percent);\n",
              "\n",
              "    outputElement.appendChild(li);\n",
              "\n",
              "    const fileDataPromise = new Promise((resolve) => {\n",
              "      const reader = new FileReader();\n",
              "      reader.onload = (e) => {\n",
              "        resolve(e.target.result);\n",
              "      };\n",
              "      reader.readAsArrayBuffer(file);\n",
              "    });\n",
              "    // Wait for the data to be ready.\n",
              "    let fileData = yield {\n",
              "      promise: fileDataPromise,\n",
              "      response: {\n",
              "        action: 'continue',\n",
              "      }\n",
              "    };\n",
              "\n",
              "    // Use a chunked sending to avoid message size limits. See b/62115660.\n",
              "    let position = 0;\n",
              "    do {\n",
              "      const length = Math.min(fileData.byteLength - position, MAX_PAYLOAD_SIZE);\n",
              "      const chunk = new Uint8Array(fileData, position, length);\n",
              "      position += length;\n",
              "\n",
              "      const base64 = btoa(String.fromCharCode.apply(null, chunk));\n",
              "      yield {\n",
              "        response: {\n",
              "          action: 'append',\n",
              "          file: file.name,\n",
              "          data: base64,\n",
              "        },\n",
              "      };\n",
              "\n",
              "      let percentDone = fileData.byteLength === 0 ?\n",
              "          100 :\n",
              "          Math.round((position / fileData.byteLength) * 100);\n",
              "      percent.textContent = `${percentDone}% done`;\n",
              "\n",
              "    } while (position < fileData.byteLength);\n",
              "  }\n",
              "\n",
              "  // All done.\n",
              "  yield {\n",
              "    response: {\n",
              "      action: 'complete',\n",
              "    }\n",
              "  };\n",
              "}\n",
              "\n",
              "scope.google = scope.google || {};\n",
              "scope.google.colab = scope.google.colab || {};\n",
              "scope.google.colab._files = {\n",
              "  _uploadFiles,\n",
              "  _uploadFilesContinue,\n",
              "};\n",
              "})(self);\n",
              "</script> "
            ]
          },
          "metadata": {}
        },
        {
          "output_type": "stream",
          "name": "stdout",
          "text": [
            "Saving stopwords.txt to stopwords.txt\n"
          ]
        }
      ]
    },
    {
      "cell_type": "code",
      "source": [
        "#加载ced_dataset数据，转化成labes,contents\n",
        "def get_df():\n",
        "    weibo = pd.read_csv ('/content/ced_dataset.txt', sep='\\t', names=['label', 'content'], encoding='utf-8')\n",
        "    weibo = weibo.dropna ()  # 删除缺失值\n",
        "    return  weibo['label'].values.tolist(),weibo['content'].values.tolist()"
      ],
      "metadata": {
        "id": "XWIo4OwDOHIY"
      },
      "execution_count": 46,
      "outputs": []
    },
    {
      "cell_type": "code",
      "source": [
        "#jieba分词\n",
        "def jieba_cut(contents):\n",
        "    contents_S=[]\n",
        "    for line in contents:\n",
        "        current_segment=jieba.lcut(line)#列表，元素为分割出来的词\n",
        "        contents_S.append (current_segment)\n",
        "    return contents_S\n"
      ],
      "metadata": {
        "id": "ry-MunYVOITG"
      },
      "execution_count": 47,
      "outputs": []
    },
    {
      "cell_type": "code",
      "source": [
        "#pkuseg分词，可以选择微博领域\n",
        "def pkuseg_cut(contents,model_name=\"web\"):\n",
        "    seg = pkuseg.pkuseg (model_name='web')  # 程序会自动下载所对应的细领域模型\n",
        "    contents_S = []\n",
        "    for line in contents:\n",
        "        line = re.sub (\"[\\s+\\.\\!\\/_,$%^*(+\\\"\\']+|[+——！，。？、~@#￥%……&*（）]+\", \"\", line)\n",
        "        current_segment = jieba.lcut (line)  # 列表，元素为分割出来的词\n",
        "        contents_S.append(current_segment)\n",
        "    return contents_S"
      ],
      "metadata": {
        "id": "wbpGI_BfOKtZ"
      },
      "execution_count": 48,
      "outputs": []
    },
    {
      "cell_type": "code",
      "source": [
        "#获取停用词集合\n",
        "def get_stopwords():\n",
        "    stopwords = pd.read_csv (\"/content/stopwords.txt\", index_col=False, sep=\"\\t\", quoting=3, names=['stopword'],\n",
        "                             encoding='utf-8')\n",
        "    return  set(stopwords['stopword'].values.tolist())"
      ],
      "metadata": {
        "id": "hVtuXsanOOdf"
      },
      "execution_count": 63,
      "outputs": []
    },
    {
      "cell_type": "code",
      "source": [
        "#去除停用词\n",
        "def drop_stopwords(contents,stopwords):\n",
        "    contents_clean = []\n",
        "    all_words = []\n",
        "    for line in contents:\n",
        "        line_clean = []\n",
        "        for word in line:\n",
        "            if word in stopwords:\n",
        "                continue\n",
        "            line_clean.append(word)\n",
        "            all_words.append(str(word))    #str()转换为字符串##记录所有line_clean中的词\n",
        "        contents_clean.append(line_clean)\n",
        "    return contents_clean,all_words"
      ],
      "metadata": {
        "id": "hW_DR-MZORWj"
      },
      "execution_count": 50,
      "outputs": []
    },
    {
      "cell_type": "code",
      "source": [
        "def get_word2vec():\n",
        "    if os.path.exists(\"/content/sgns.weibo.bigram\") == False:\n",
        "        bz2Decompress()\n",
        "    word2vec=KeyedVectors.load_word2vec_format('/content/sgns.weibo.bigram',binary=False,unicode_errors=\"ignore\")\n",
        "    return word2vec"
      ],
      "metadata": {
        "id": "M5Od6pw-OUXb"
      },
      "execution_count": 57,
      "outputs": []
    },
    {
      "cell_type": "code",
      "source": [
        "## 返回预处理后的（labels，index)=>([1},[234 1234])\n",
        "def key_to_index(contents,word2vec,num_words):\n",
        "    '''\n",
        "    :param contents:\n",
        "    :param word2vec:预训练好的词向量模型，词向量根据使用频率降序排列\n",
        "    :param num_words: 最大词汇数，选择使用前new_words个使用评率最高的词\n",
        "    :return:\n",
        "    '''\n",
        "    train_tokens=[]\n",
        "    contents_S = pkuseg_cut(contents)\n",
        "    stopword = get_stopwords ()\n",
        "    contents_clean, all_words = drop_stopwords (contents_S, stopword)\n",
        "    for line_clean in contents_clean:\n",
        "        for i, key in enumerate(line_clean):\n",
        "            try:\n",
        "                index=word2vec.key_to_index[key]\n",
        "                if index<num_words:\n",
        "                    line_clean[i]=word2vec.key_to_index[key]\n",
        "                else:\n",
        "                    line_clean[i] =0  #超出前num_words个词用0代替\n",
        "            except KeyError:  #如果词不在字典中，则输出0\n",
        "                line_clean[i]=0\n",
        "        train_tokens.append(line_clean)\n",
        "    return train_tokens\n"
      ],
      "metadata": {
        "id": "vEzhqF4zPjhA"
      },
      "execution_count": 52,
      "outputs": []
    },
    {
      "cell_type": "code",
      "source": [
        "# 返回预处理后的（labels，contents)=>([1},[求 转发])\n",
        "def labels_contents():\n",
        "    labels, contents = get_df()\n",
        "    contents_S = jieba_cut (contents)\n",
        "    stopword = get_stopwords ()\n",
        "    contents_clean, all_words = drop_stopwords (contents_S, stopword)\n",
        "    contents_clean=[\" \".join (x) for x in contents_clean]\n",
        "    return labels, contents_clean"
      ],
      "metadata": {
        "id": "3a9hPoJuPlbJ"
      },
      "execution_count": 53,
      "outputs": []
    },
    {
      "cell_type": "code",
      "source": [
        "def get_maxlength(train_tokens):\n",
        "    num_tokens = [len (tokens) for tokens in train_tokens]\n",
        "    num_tokens = np.array (num_tokens)\n",
        "    # 取tokens平均值并加上两个tokens的标准差，\n",
        "    # 假设tokens长度的分布为正态分布，则max_tokens这个值可以涵盖95%左右的样本\n",
        "    max_tokens = np.mean (num_tokens) + 2 * np.std (num_tokens)\n",
        "    max_tokens = int (max_tokens)\n",
        "    return max_tokens\n"
      ],
      "metadata": {
        "id": "KVUfA83lPpfb"
      },
      "execution_count": 54,
      "outputs": []
    },
    {
      "cell_type": "code",
      "source": [
        "def padding_truncating(train_tokens,maxlen):\n",
        "    for i,token in enumerate(train_tokens):\n",
        "        if len(token)>maxlen:\n",
        "            train_tokens[i]=token[len(token)-maxlen:]\n",
        "        elif len(token)<maxlen:\n",
        "            train_tokens[i]=[0]*(maxlen-len(token))+token\n",
        "    return train_tokens"
      ],
      "metadata": {
        "id": "y4MvD-w-Prjr"
      },
      "execution_count": 55,
      "outputs": []
    },
    {
      "cell_type": "code",
      "source": [
        "import torch\n",
        "\n",
        "\n",
        "\n",
        "\n",
        "num_words =50000  #最大词汇数，选择使用前new_words个使用评率最高的词\n",
        "maxlength =58     #文本最大长度,utils包中的get_maxlength() 方法获得通过 ,取tokens平均值并加上两个tokens的标准差，\n",
        "                                     # 假设tokens长度的分布为正态分布，则max_tokens这个值可以涵盖95%左右的样本\n",
        "\n",
        "embedding_dim = 300 #词向量维度\n",
        "lstm_hidden_size=128  #LSTM 隐含层size\n",
        "lstm_num_layers=2     #LSTM 层数\n",
        "lstm_bidirectional=True #LSTM是否为双向\n",
        "lr=1e-3    #学习率\n",
        "\n",
        "dropout = 0.2  #随机置零的概率\n",
        "batch_size = 64\n",
        "early_stop_cnt=6   #验证集准确率不提升时最多等待epoch，早停\n",
        "epoch=30           #迭代次数\n",
        "\n",
        "\n",
        "device = torch.device(\"cuda:0\" if torch.cuda.is_available() else \"cpu\")"
      ],
      "metadata": {
        "id": "SV5Xwq89fa9q"
      },
      "execution_count": 64,
      "outputs": []
    },
    {
      "cell_type": "code",
      "source": [
        "from google.colab import files\n",
        "uploaded = files.upload()\n"
      ],
      "metadata": {
        "colab": {
          "base_uri": "https://localhost:8080/",
          "height": 75
        },
        "id": "B-XTEaIGhUEi",
        "outputId": "b4104923-c0d0-438a-aa22-df16793a2797"
      },
      "execution_count": 77,
      "outputs": [
        {
          "output_type": "display_data",
          "data": {
            "text/plain": [
              "<IPython.core.display.HTML object>"
            ],
            "text/html": [
              "\n",
              "     <input type=\"file\" id=\"files-eafb0bfa-fa0c-4f51-a322-05e7a6a9c76c\" name=\"files[]\" multiple disabled\n",
              "        style=\"border:none\" />\n",
              "     <output id=\"result-eafb0bfa-fa0c-4f51-a322-05e7a6a9c76c\">\n",
              "      Upload widget is only available when the cell has been executed in the\n",
              "      current browser session. Please rerun this cell to enable.\n",
              "      </output>\n",
              "      <script>// Copyright 2017 Google LLC\n",
              "//\n",
              "// Licensed under the Apache License, Version 2.0 (the \"License\");\n",
              "// you may not use this file except in compliance with the License.\n",
              "// You may obtain a copy of the License at\n",
              "//\n",
              "//      http://www.apache.org/licenses/LICENSE-2.0\n",
              "//\n",
              "// Unless required by applicable law or agreed to in writing, software\n",
              "// distributed under the License is distributed on an \"AS IS\" BASIS,\n",
              "// WITHOUT WARRANTIES OR CONDITIONS OF ANY KIND, either express or implied.\n",
              "// See the License for the specific language governing permissions and\n",
              "// limitations under the License.\n",
              "\n",
              "/**\n",
              " * @fileoverview Helpers for google.colab Python module.\n",
              " */\n",
              "(function(scope) {\n",
              "function span(text, styleAttributes = {}) {\n",
              "  const element = document.createElement('span');\n",
              "  element.textContent = text;\n",
              "  for (const key of Object.keys(styleAttributes)) {\n",
              "    element.style[key] = styleAttributes[key];\n",
              "  }\n",
              "  return element;\n",
              "}\n",
              "\n",
              "// Max number of bytes which will be uploaded at a time.\n",
              "const MAX_PAYLOAD_SIZE = 100 * 1024;\n",
              "\n",
              "function _uploadFiles(inputId, outputId) {\n",
              "  const steps = uploadFilesStep(inputId, outputId);\n",
              "  const outputElement = document.getElementById(outputId);\n",
              "  // Cache steps on the outputElement to make it available for the next call\n",
              "  // to uploadFilesContinue from Python.\n",
              "  outputElement.steps = steps;\n",
              "\n",
              "  return _uploadFilesContinue(outputId);\n",
              "}\n",
              "\n",
              "// This is roughly an async generator (not supported in the browser yet),\n",
              "// where there are multiple asynchronous steps and the Python side is going\n",
              "// to poll for completion of each step.\n",
              "// This uses a Promise to block the python side on completion of each step,\n",
              "// then passes the result of the previous step as the input to the next step.\n",
              "function _uploadFilesContinue(outputId) {\n",
              "  const outputElement = document.getElementById(outputId);\n",
              "  const steps = outputElement.steps;\n",
              "\n",
              "  const next = steps.next(outputElement.lastPromiseValue);\n",
              "  return Promise.resolve(next.value.promise).then((value) => {\n",
              "    // Cache the last promise value to make it available to the next\n",
              "    // step of the generator.\n",
              "    outputElement.lastPromiseValue = value;\n",
              "    return next.value.response;\n",
              "  });\n",
              "}\n",
              "\n",
              "/**\n",
              " * Generator function which is called between each async step of the upload\n",
              " * process.\n",
              " * @param {string} inputId Element ID of the input file picker element.\n",
              " * @param {string} outputId Element ID of the output display.\n",
              " * @return {!Iterable<!Object>} Iterable of next steps.\n",
              " */\n",
              "function* uploadFilesStep(inputId, outputId) {\n",
              "  const inputElement = document.getElementById(inputId);\n",
              "  inputElement.disabled = false;\n",
              "\n",
              "  const outputElement = document.getElementById(outputId);\n",
              "  outputElement.innerHTML = '';\n",
              "\n",
              "  const pickedPromise = new Promise((resolve) => {\n",
              "    inputElement.addEventListener('change', (e) => {\n",
              "      resolve(e.target.files);\n",
              "    });\n",
              "  });\n",
              "\n",
              "  const cancel = document.createElement('button');\n",
              "  inputElement.parentElement.appendChild(cancel);\n",
              "  cancel.textContent = 'Cancel upload';\n",
              "  const cancelPromise = new Promise((resolve) => {\n",
              "    cancel.onclick = () => {\n",
              "      resolve(null);\n",
              "    };\n",
              "  });\n",
              "\n",
              "  // Wait for the user to pick the files.\n",
              "  const files = yield {\n",
              "    promise: Promise.race([pickedPromise, cancelPromise]),\n",
              "    response: {\n",
              "      action: 'starting',\n",
              "    }\n",
              "  };\n",
              "\n",
              "  cancel.remove();\n",
              "\n",
              "  // Disable the input element since further picks are not allowed.\n",
              "  inputElement.disabled = true;\n",
              "\n",
              "  if (!files) {\n",
              "    return {\n",
              "      response: {\n",
              "        action: 'complete',\n",
              "      }\n",
              "    };\n",
              "  }\n",
              "\n",
              "  for (const file of files) {\n",
              "    const li = document.createElement('li');\n",
              "    li.append(span(file.name, {fontWeight: 'bold'}));\n",
              "    li.append(span(\n",
              "        `(${file.type || 'n/a'}) - ${file.size} bytes, ` +\n",
              "        `last modified: ${\n",
              "            file.lastModifiedDate ? file.lastModifiedDate.toLocaleDateString() :\n",
              "                                    'n/a'} - `));\n",
              "    const percent = span('0% done');\n",
              "    li.appendChild(percent);\n",
              "\n",
              "    outputElement.appendChild(li);\n",
              "\n",
              "    const fileDataPromise = new Promise((resolve) => {\n",
              "      const reader = new FileReader();\n",
              "      reader.onload = (e) => {\n",
              "        resolve(e.target.result);\n",
              "      };\n",
              "      reader.readAsArrayBuffer(file);\n",
              "    });\n",
              "    // Wait for the data to be ready.\n",
              "    let fileData = yield {\n",
              "      promise: fileDataPromise,\n",
              "      response: {\n",
              "        action: 'continue',\n",
              "      }\n",
              "    };\n",
              "\n",
              "    // Use a chunked sending to avoid message size limits. See b/62115660.\n",
              "    let position = 0;\n",
              "    do {\n",
              "      const length = Math.min(fileData.byteLength - position, MAX_PAYLOAD_SIZE);\n",
              "      const chunk = new Uint8Array(fileData, position, length);\n",
              "      position += length;\n",
              "\n",
              "      const base64 = btoa(String.fromCharCode.apply(null, chunk));\n",
              "      yield {\n",
              "        response: {\n",
              "          action: 'append',\n",
              "          file: file.name,\n",
              "          data: base64,\n",
              "        },\n",
              "      };\n",
              "\n",
              "      let percentDone = fileData.byteLength === 0 ?\n",
              "          100 :\n",
              "          Math.round((position / fileData.byteLength) * 100);\n",
              "      percent.textContent = `${percentDone}% done`;\n",
              "\n",
              "    } while (position < fileData.byteLength);\n",
              "  }\n",
              "\n",
              "  // All done.\n",
              "  yield {\n",
              "    response: {\n",
              "      action: 'complete',\n",
              "    }\n",
              "  };\n",
              "}\n",
              "\n",
              "scope.google = scope.google || {};\n",
              "scope.google.colab = scope.google.colab || {};\n",
              "scope.google.colab._files = {\n",
              "  _uploadFiles,\n",
              "  _uploadFilesContinue,\n",
              "};\n",
              "})(self);\n",
              "</script> "
            ]
          },
          "metadata": {}
        },
        {
          "output_type": "stream",
          "name": "stdout",
          "text": [
            "Saving config.py to config.py\n"
          ]
        }
      ]
    },
    {
      "cell_type": "code",
      "source": [
        "!ls -l /content\n"
      ],
      "metadata": {
        "colab": {
          "base_uri": "https://localhost:8080/"
        },
        "id": "sxqj_dtcibZJ",
        "outputId": "a2e503c0-6004-4844-ea5f-7030b05a23b6"
      },
      "execution_count": 80,
      "outputs": [
        {
          "output_type": "stream",
          "name": "stdout",
          "text": [
            "total 753736\n",
            "-rw-r--r-- 1 root root   1026143 Feb 10 13:58 ced_dataset.txt\n",
            "-rw-r--r-- 1 root root       808 Feb 10 15:41 config.py\n",
            "drwx------ 6 root root      4096 Feb 10 12:11 drive\n",
            "-rw-r--r-- 1 root root  34155221 Feb 10 12:14 rumors_v170613.json\n",
            "drwxr-xr-x 1 root root      4096 Feb  6 14:19 sample_data\n",
            "-rw-r--r-- 1 root root 557111141 Feb 10 14:36 sgns.weibo.bigram\n",
            "-rw-r--r-- 1 root root 179490373 Feb 10 14:07 sgns.weibo.bigram.bz2\n",
            "-rw-r--r-- 1 root root     17672 Feb 10 15:29 stopwords.txt\n"
          ]
        }
      ]
    },
    {
      "cell_type": "code",
      "source": [
        "sys.path.insert(0, \"/content\")\n",
        "import config\n",
        "print(config.num_words)  # 确保它能正确打印数值\n"
      ],
      "metadata": {
        "colab": {
          "base_uri": "https://localhost:8080/"
        },
        "id": "aspBIEowik4w",
        "outputId": "71c378a7-2f70-4641-a6b6-399c78eb2488"
      },
      "execution_count": 82,
      "outputs": [
        {
          "output_type": "stream",
          "name": "stdout",
          "text": [
            "50000\n"
          ]
        }
      ]
    },
    {
      "cell_type": "code",
      "source": [
        "import sys\n",
        "if \"config\" in sys.modules:\n",
        "    del sys.modules[\"config\"]\n"
      ],
      "metadata": {
        "id": "fK73Aeeyihv2"
      },
      "execution_count": 81,
      "outputs": []
    },
    {
      "cell_type": "code",
      "source": [
        "exec(open(\"/content/config.py\").read())\n",
        "print(num_words)\n"
      ],
      "metadata": {
        "colab": {
          "base_uri": "https://localhost:8080/"
        },
        "id": "Q2ANIKkGivq3",
        "outputId": "2b927403-8699-4500-c706-426fcdea87b2"
      },
      "execution_count": 83,
      "outputs": [
        {
          "output_type": "stream",
          "name": "stdout",
          "text": [
            "50000\n"
          ]
        }
      ]
    },
    {
      "cell_type": "code",
      "source": [
        "def get_embedding(word2vec,num_words=50000,embedding_dim=300):\n",
        "    '''\n",
        "    :param num_words: 只选择使用前50k个使用频率最高的词\n",
        "    :param embedding_dim: 词向量维度\n",
        "    :param word2vec: 预训练好的词向量模型\n",
        "    :return:\n",
        "    '''\n",
        "    embedding_matrix = np.zeros ((num_words, embedding_dim))\n",
        "    # embedding_matrix为一个 [num_words，embedding_dim] 的矩阵\n",
        "    # 维度为 50000 * 300\n",
        "    for i in range (num_words):\n",
        "        # embedding_matrix[i,:] = cn_model[cn_model.index2word[i]]#前50000个index对应的词的词向量\n",
        "        embedding_matrix[i, :] = word2vec[i]  # 前50000个index对应的词的词向量\n",
        "    embedding_matrix = embedding_matrix.astype ('float32')\n",
        "    return torch.from_numpy(embedding_matrix)\n",
        "\n",
        "word2vec=get_word2vec()\n",
        "\n",
        "embedding=get_embedding(word2vec,num_words=config.num_words,embedding_dim=config.embedding_dim)"
      ],
      "metadata": {
        "id": "11GtwXTZPuWE"
      },
      "execution_count": 85,
      "outputs": []
    },
    {
      "cell_type": "code",
      "source": [],
      "metadata": {
        "id": "4yb35CJqd27E"
      },
      "execution_count": 59,
      "outputs": []
    },
    {
      "cell_type": "code",
      "source": [
        "def plot_learning_curve(train_loss,test_loss, title=''):\n",
        "    ''' Plot learning curve of your DNN (train & dev loss) '''\n",
        "\n",
        "    plt.figure(figsize=(20, 8))\n",
        "    plt.plot(train_loss, c='tab:red', label='train')\n",
        "    plt.plot(test_loss, c='tab:cyan', label='test')\n",
        "    plt.ylim(0.0, 5.)\n",
        "    plt.xlabel('Training epoch')\n",
        "    plt.ylabel('CrossEntropyLoss')\n",
        "    plt.title('Learning curve of {}'.format(title))\n",
        "    plt.legend()\n",
        "    plt.show()\n",
        "\n",
        "if __name__ == '__main__':\n",
        "    plot_learning_curve([1,2,3,4],[2,3,1,2])\n",
        "    # labels,contents=labels_contents()\n",
        "    # print(labels[:5])\n",
        "    # print(contents[:5])"
      ],
      "metadata": {
        "colab": {
          "base_uri": "https://localhost:8080/",
          "height": 530
        },
        "id": "tp1SHo2XPxTe",
        "outputId": "5abd1f2c-c878-4d4b-8cf6-3b6ba0d4e235"
      },
      "execution_count": 86,
      "outputs": [
        {
          "output_type": "display_data",
          "data": {
            "text/plain": [
              "<Figure size 2000x800 with 1 Axes>"
            ],
            "image/png": "[encoded data removed]"
          },
          "metadata": {}
        }
      ]
    }
  ]
}